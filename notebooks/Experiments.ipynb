{
 "cells": [
  {
   "cell_type": "markdown",
   "metadata": {},
   "source": [
    "## Experiments\n",
    "\n",
    "Here you can organize all the experiments and exploration as you figure out how to collect and analyze your data and build your NLP tool. The experiments you conduct here will contribute to the report/presentation of your project.\n",
    "\n",
    "Once you've finalized everything, you should then transfer the parts that are necessary for your demo to the code in the `nlp` folder."
   ]
  },
  {
   "cell_type": "code",
   "execution_count": 1,
   "metadata": {},
   "outputs": [
    {
     "name": "stderr",
     "output_type": "stream",
     "text": [
      "C:\\Users\\todan\\AppData\\Local\\Temp\\ipykernel_23156\\3340772939.py:5: DeprecationWarning: `set_matplotlib_formats` is deprecated since IPython 7.23, directly use `matplotlib_inline.backend_inline.set_matplotlib_formats()`\n",
      "  set_matplotlib_formats('pdf', 'png')\n"
     ]
    }
   ],
   "source": [
    "# configure matplotlib to print pretty figures \n",
    "import matplotlib.pyplot as plt\n",
    "%matplotlib inline\n",
    "from IPython.display import set_matplotlib_formats\n",
    "set_matplotlib_formats('pdf', 'png')\n",
    "plt.rcParams['savefig.dpi'] = 75\n",
    "\n",
    "plt.rcParams['figure.autolayout'] = False\n",
    "plt.rcParams['figure.figsize'] = 10, 6\n",
    "plt.rcParams['axes.labelsize'] = 18\n",
    "plt.rcParams['axes.titlesize'] = 20\n",
    "plt.rcParams['font.size'] = 16\n",
    "plt.rcParams['lines.linewidth'] = 2.0\n",
    "plt.rcParams['lines.markersize'] = 8\n",
    "plt.rcParams['legend.fontsize'] = 14\n",
    "\n",
    "plt.rcParams['text.usetex'] = True\n",
    "plt.rcParams['font.family'] = \"serif\"\n",
    "plt.rcParams['font.serif'] = \"cm\""
   ]
  },
  {
   "cell_type": "code",
   "execution_count": 1,
   "metadata": {},
   "outputs": [],
   "source": [
    "import numpy as np\n",
    "import pandas as pd\n",
    "\n",
    "true = pd.read_csv('true.csv')\n",
    "fake = pd.read_csv('fake.csv')\n",
    "\n",
    "true['label'] = 1\n",
    "fake['label'] = 0\n",
    "\n",
    "df_news = pd.concat([fake, true])\n",
    "df_news = df_news.sample(frac=1)\n",
    "df_news.reset_index(drop=True, inplace=True)"
   ]
  },
  {
   "cell_type": "code",
   "execution_count": 2,
   "metadata": {},
   "outputs": [],
   "source": [
    "import spacy\n",
    "import re\n",
    "import pycountry\n",
    "from sklearn.model_selection import train_test_split\n",
    "\n",
    "# spacy.require_gpu()\n",
    "nlp = spacy.load(\"en_core_web_sm\", disable=[\"parser\", \"ner\"])\n",
    "\n",
    "train_data_news, test_data_news, label_train_data_news, label_test_data_news = train_test_split(\n",
    "    df_news.iloc[:, :-1], \n",
    "    df_news.iloc[:, -1:], \n",
    "    test_size=0.2, \n",
    "    stratify=df_news.iloc[:, -1:])\n",
    "\n",
    "countries = [country.name for country in pycountry.countries]\n",
    "# Generate a list of country names\n",
    "\n",
    "def replace_countries(text):\n",
    "        for country in countries:\n",
    "            text = text.replace(country, \"country\")\n",
    "        return text\n",
    "\n",
    "def process_text_batch(docs):\n",
    "    texts = [replace_countries(doc.replace('\\xa0', ' ')) for doc in docs]\n",
    "    docs = list(nlp.pipe(texts))\n",
    "    return [[token.lemma_ for token in doc if not token.is_stop] for doc in docs]\n",
    "\n",
    "def parallel_process_text(data, batch_size=1000):\n",
    "    processed_data = []\n",
    "    for i in range(0, len(data), batch_size):\n",
    "        batch = data[i:i + batch_size]\n",
    "        processed_batch = process_text_batch(batch)\n",
    "        processed_data.extend(processed_batch)\n",
    "    return processed_data\n",
    "\n",
    "X_train_text = parallel_process_text(train_data_news['text'].tolist())\n",
    "X_test_text = parallel_process_text(test_data_news['text'].tolist())\n",
    "\n",
    "X_train_text_join = [' '.join(doc) for doc in X_train_text]\n",
    "X_test_text_join = [' '.join(doc) for doc in X_test_text]\n"
   ]
  },
  {
   "cell_type": "code",
   "execution_count": 57,
   "metadata": {},
   "outputs": [],
   "source": [
    "from tensorflow.keras.preprocessing.text import Tokenizer\n",
    "\n",
    "tokenizer = Tokenizer(num_words=10000)\n",
    "tokenizer.fit_on_texts(X_train_text_join)\n",
    "X_train_text_seq = tokenizer.texts_to_sequences(X_train_text_join)\n",
    "X_test_text_seq = tokenizer.texts_to_sequences(X_test_text_join)"
   ]
  },
  {
   "cell_type": "code",
   "execution_count": 58,
   "metadata": {},
   "outputs": [],
   "source": [
    "import pickle\n",
    "\n",
    "# Serialize the tokenizer to a file\n",
    "with open('tokenizer.pickle', 'wb') as handle:\n",
    "    pickle.dump(tokenizer, handle, protocol=pickle.HIGHEST_PROTOCOL)"
   ]
  },
  {
   "cell_type": "code",
   "execution_count": 50,
   "metadata": {},
   "outputs": [],
   "source": [
    "import tensorflow as tf\n",
    "from tensorflow import keras\n",
    "from tensorflow.keras import layers\n",
    "from keras.utils import pad_sequences\n",
    "\n",
    "X_train_text_sq = pad_sequences(X_train_text_seq, maxlen=150)\n",
    "X_test_text_sq = pad_sequences(X_test_text_seq, maxlen=150)\n",
    "\n",
    "model_text = keras.Sequential()\n",
    "model_text.add(layers.Embedding(10000, 128))\n",
    "model_text.add(layers.GRU(units=96, dropout=0.4, return_sequences=True))\n",
    "model_text.add(layers.GlobalMaxPooling1D())\n",
    "model_text.add(layers.Dense(units=96, activation='elu'))\n",
    "model_text.add(layers.Dropout(rate=0.2))\n",
    "model_text.add(layers.Dense(units=128, activation='elu'))\n",
    "model_text.add(layers.Dropout(rate=0.2))\n",
    "model_text.add(layers.Dense(units=48, activation='elu'))\n",
    "model_text.add(layers.Dropout(rate=0.4))\n",
    "model_text.add(layers.Dense(units=96, activation='elu'))\n",
    "model_text.add(layers.Dropout(rate=0.2))\n",
    "model_text.add(layers.Dense(units=112, activation='elu'))\n",
    "model_text.add(layers.Dropout(rate=0.4))\n",
    "model_text.add(layers.Dense(units=96, activation='elu'))\n",
    "model_text.add(layers.Dropout(rate=0.2))\n",
    "model_text.add(layers.Dense(units=32, activation='elu'))\n",
    "model_text.add(layers.Dropout(rate=0.4))\n",
    "model_text.add(layers.Dense(units=96, activation='elu'))\n",
    "model_text.add(layers.Dropout(rate=0.4))\n",
    "model_text.add(layers.Dense(units=32, activation='relu'))\n",
    "model_text.add(layers.Dropout(rate=0.3))\n",
    "model_text.add(layers.Dense(1, activation='sigmoid'))\n",
    "\n",
    "model_text.compile(optimizer='adam', loss='binary_crossentropy', metrics=['accuracy'])"
   ]
  },
  {
   "cell_type": "code",
   "execution_count": 51,
   "metadata": {},
   "outputs": [
    {
     "name": "stdout",
     "output_type": "stream",
     "text": [
      "Epoch 1/4\n",
      "\u001b[1m1123/1123\u001b[0m \u001b[32m━━━━━━━━━━━━━━━━━━━━\u001b[0m\u001b[37m\u001b[0m \u001b[1m31s\u001b[0m 25ms/step - accuracy: 0.8640 - loss: 0.2513 - val_accuracy: 0.9898 - val_loss: 0.0371\n",
      "Epoch 2/4\n",
      "\u001b[1m1123/1123\u001b[0m \u001b[32m━━━━━━━━━━━━━━━━━━━━\u001b[0m\u001b[37m\u001b[0m \u001b[1m30s\u001b[0m 27ms/step - accuracy: 0.9912 - loss: 0.0313 - val_accuracy: 0.9883 - val_loss: 0.0327\n",
      "Epoch 3/4\n",
      "\u001b[1m1123/1123\u001b[0m \u001b[32m━━━━━━━━━━━━━━━━━━━━\u001b[0m\u001b[37m\u001b[0m \u001b[1m28s\u001b[0m 25ms/step - accuracy: 0.9948 - loss: 0.0208 - val_accuracy: 0.9836 - val_loss: 0.0605\n",
      "Epoch 4/4\n",
      "\u001b[1m1123/1123\u001b[0m \u001b[32m━━━━━━━━━━━━━━━━━━━━\u001b[0m\u001b[37m\u001b[0m \u001b[1m30s\u001b[0m 27ms/step - accuracy: 0.9975 - loss: 0.0117 - val_accuracy: 0.9940 - val_loss: 0.0353\n"
     ]
    },
    {
     "data": {
      "text/plain": [
       "<keras.src.callbacks.history.History at 0x2d27ba83e00>"
      ]
     },
     "execution_count": 51,
     "metadata": {},
     "output_type": "execute_result"
    }
   ],
   "source": [
    "model_text.fit(X_train_text_sq, label_train_data_news, epochs=4, validation_data=(X_test_text_sq, label_test_data_news))"
   ]
  },
  {
   "cell_type": "code",
   "execution_count": 17,
   "metadata": {},
   "outputs": [
    {
     "name": "stderr",
     "output_type": "stream",
     "text": [
      "d:\\nlp\\project-fake\\.venv\\Lib\\site-packages\\keras\\src\\saving\\saving_lib.py:418: UserWarning: Skipping variable loading for optimizer 'adam', because it has 62 variables whereas the saved optimizer has 56 variables. \n",
      "  trackable.load_own_variables(weights_store.get(inner_path))\n"
     ]
    },
    {
     "ename": "ValueError",
     "evalue": "A total of 1 objects could not be loaded. Example error message for object <GRUCell name=gru_cell, built=True>:\n\nLayer 'gru_cell' expected 3 variables, but received 0 variables during loading. Expected: ['kernel', 'recurrent_kernel', 'bias']\n\nList of objects that could not be loaded:\n[<GRUCell name=gru_cell, built=True>]",
     "output_type": "error",
     "traceback": [
      "\u001b[1;31m---------------------------------------------------------------------------\u001b[0m",
      "\u001b[1;31mValueError\u001b[0m                                Traceback (most recent call last)",
      "Cell \u001b[1;32mIn[17], line 2\u001b[0m\n\u001b[0;32m      1\u001b[0m \u001b[38;5;28;01mimport\u001b[39;00m \u001b[38;5;21;01mpickle\u001b[39;00m\n\u001b[1;32m----> 2\u001b[0m model \u001b[38;5;241m=\u001b[39m \u001b[43mpickle\u001b[49m\u001b[38;5;241;43m.\u001b[39;49m\u001b[43mload\u001b[49m\u001b[43m(\u001b[49m\u001b[38;5;28;43mopen\u001b[39;49m\u001b[43m(\u001b[49m\u001b[38;5;124;43m\"\u001b[39;49m\u001b[38;5;124;43m../nlp/model.pkl\u001b[39;49m\u001b[38;5;124;43m\"\u001b[39;49m\u001b[43m,\u001b[49m\u001b[43m \u001b[49m\u001b[38;5;124;43m'\u001b[39;49m\u001b[38;5;124;43mrb\u001b[39;49m\u001b[38;5;124;43m'\u001b[39;49m\u001b[43m)\u001b[49m\u001b[43m)\u001b[49m\n",
      "File \u001b[1;32md:\\nlp\\project-fake\\.venv\\Lib\\site-packages\\keras\\src\\models\\model.py:360\u001b[0m, in \u001b[0;36mModel._unpickle_model\u001b[1;34m(cls, bytesio)\u001b[0m\n\u001b[0;32m    357\u001b[0m \u001b[38;5;129m@classmethod\u001b[39m\n\u001b[0;32m    358\u001b[0m \u001b[38;5;28;01mdef\u001b[39;00m \u001b[38;5;21m_unpickle_model\u001b[39m(\u001b[38;5;28mcls\u001b[39m, bytesio):\n\u001b[0;32m    359\u001b[0m     \u001b[38;5;66;03m# pickle is not safe regardless of what you do.\u001b[39;00m\n\u001b[1;32m--> 360\u001b[0m     \u001b[38;5;28;01mreturn\u001b[39;00m \u001b[43msaving_lib\u001b[49m\u001b[38;5;241;43m.\u001b[39;49m\u001b[43m_load_model_from_fileobj\u001b[49m\u001b[43m(\u001b[49m\n\u001b[0;32m    361\u001b[0m \u001b[43m        \u001b[49m\u001b[43mbytesio\u001b[49m\u001b[43m,\u001b[49m\u001b[43m \u001b[49m\u001b[43mcustom_objects\u001b[49m\u001b[38;5;241;43m=\u001b[39;49m\u001b[38;5;28;43;01mNone\u001b[39;49;00m\u001b[43m,\u001b[49m\u001b[43m \u001b[49m\u001b[38;5;28;43mcompile\u001b[39;49m\u001b[38;5;241;43m=\u001b[39;49m\u001b[38;5;28;43;01mTrue\u001b[39;49;00m\u001b[43m,\u001b[49m\u001b[43m \u001b[49m\u001b[43msafe_mode\u001b[49m\u001b[38;5;241;43m=\u001b[39;49m\u001b[38;5;28;43;01mFalse\u001b[39;49;00m\n\u001b[0;32m    362\u001b[0m \u001b[43m    \u001b[49m\u001b[43m)\u001b[49m\n",
      "File \u001b[1;32md:\\nlp\\project-fake\\.venv\\Lib\\site-packages\\keras\\src\\saving\\saving_lib.py:207\u001b[0m, in \u001b[0;36m_load_model_from_fileobj\u001b[1;34m(fileobj, custom_objects, compile, safe_mode)\u001b[0m\n\u001b[0;32m    204\u001b[0m         asset_store\u001b[38;5;241m.\u001b[39mclose()\n\u001b[0;32m    206\u001b[0m     \u001b[38;5;28;01mif\u001b[39;00m failed_trackables:\n\u001b[1;32m--> 207\u001b[0m         \u001b[43m_raise_loading_failure\u001b[49m\u001b[43m(\u001b[49m\u001b[43merror_msgs\u001b[49m\u001b[43m)\u001b[49m\n\u001b[0;32m    208\u001b[0m \u001b[38;5;28;01mreturn\u001b[39;00m model\n",
      "File \u001b[1;32md:\\nlp\\project-fake\\.venv\\Lib\\site-packages\\keras\\src\\saving\\saving_lib.py:295\u001b[0m, in \u001b[0;36m_raise_loading_failure\u001b[1;34m(error_msgs, warn_only)\u001b[0m\n\u001b[0;32m    293\u001b[0m     warnings\u001b[38;5;241m.\u001b[39mwarn(msg)\n\u001b[0;32m    294\u001b[0m \u001b[38;5;28;01melse\u001b[39;00m:\n\u001b[1;32m--> 295\u001b[0m     \u001b[38;5;28;01mraise\u001b[39;00m \u001b[38;5;167;01mValueError\u001b[39;00m(msg)\n",
      "\u001b[1;31mValueError\u001b[0m: A total of 1 objects could not be loaded. Example error message for object <GRUCell name=gru_cell, built=True>:\n\nLayer 'gru_cell' expected 3 variables, but received 0 variables during loading. Expected: ['kernel', 'recurrent_kernel', 'bias']\n\nList of objects that could not be loaded:\n[<GRUCell name=gru_cell, built=True>]"
     ]
    }
   ],
   "source": [
    "import pickle\n",
    "model = pickle.load(open(\"../nlp/model.pkl\", 'rb'))"
   ]
  },
  {
   "cell_type": "code",
   "execution_count": 52,
   "metadata": {},
   "outputs": [],
   "source": [
    "# Save the model using the SavedModel format\n",
    "model_text.save('my_model.keras')\n",
    "\n",
    "# Load the model\n",
    "model = tf.keras.models.load_model('my_model.keras')\n"
   ]
  },
  {
   "cell_type": "code",
   "execution_count": 53,
   "metadata": {},
   "outputs": [
    {
     "name": "stdout",
     "output_type": "stream",
     "text": [
      "\u001b[1m71/71\u001b[0m \u001b[32m━━━━━━━━━━━━━━━━━━━━\u001b[0m\u001b[37m\u001b[0m \u001b[1m1s\u001b[0m 18ms/step - accuracy: 0.9947 - loss: 0.0301\n"
     ]
    }
   ],
   "source": [
    "score, acc = model_text.evaluate(X_test_text_sq, label_test_data_news,\n",
    "                              batch_size=128)"
   ]
  },
  {
   "cell_type": "code",
   "execution_count": 54,
   "metadata": {},
   "outputs": [
    {
     "data": {
      "text/plain": [
       "0.03527630493044853"
      ]
     },
     "metadata": {},
     "output_type": "display_data"
    },
    {
     "data": {
      "text/plain": [
       "0.9939866662025452"
      ]
     },
     "metadata": {},
     "output_type": "display_data"
    }
   ],
   "source": [
    "display(score,acc)"
   ]
  },
  {
   "cell_type": "code",
   "execution_count": 60,
   "metadata": {},
   "outputs": [
    {
     "ename": "ValueError",
     "evalue": "Unrecognized data type: x=country see month pro democracy protest country appear tighten grip protest begin June 2019 plan later ice finally withdraw September allow extradition country mainland country spread reflect wide demand democratic reform inquiry alleged police brutality country propose introduce new national security law critic believe crack right political activist happen vacuum lot important context stretch decade help explain go important remember country significantly different chinese city understand need look history british colony 150 year country island cede UK war 1842 later country lease rest country New Territories British 99 year busy trading port economy take 1950 manufacturing hub territory popular migrant dissident flee instability poverty persecution mainland country early 1980 deadline 99 year lease approach Britain country begin talk future country communist government country argue country return chinese rule side sign treaty 1984 country return country 1997 principle country system mean country country country enjoy high degree autonomy foreign defence affair 50 year result country legal system border right include freedom assembly free speech freedom press protect example place chinese territory people commemorate 1989 Tiananmen Square crackdown military open fire unarmed protester Beijing country enjoy freedom see mainland country widely think decline right group accuse country meddle country cite example legal ruling disqualify pro democracy legislator disappearance country bookseller tycoon eventually emerge custody country accusation press academic freedom deteriorate March country effectively expel journalist prohibit work country public broadcaster RTHK come pressure country government broadcast interview World Health Organization Taiwan target police satirical news Headliner local examination body come fire world history question relation country country government demand exam question invalidated government say professional political decision academic express concern stick point democratic reform country leader chief executive currently elect 1,200 member election committee pro beijing body choose 6 eligible voter 70 member territory lawmaking body Legislative Council directly choose country voter seat directly elect occupy pro beijing lawmaker June 2019 protester take street demonstrate plan allow extradition mainland country time clash police activist increasingly violent bill halt later fully withdraw demonstration continue month demand democracy independent inquiry police action April year country police arrest 15 city high profile pro democracy activist take unauthorised assembly country police watchdog say find significant wrongdoing police 2019 protest report criticise right group external expert street protest die coronavirus pandemic small demonstration include singe protester shopping mall start restriction gradually ease country propose introduce new national security law country similar withdraw 2003 say legislation highly necessary safeguard national security country new proposal controversial expect circumvent country law make process lead accusation Beijing undermine country autonomy (of type <class 'str'>)",
     "output_type": "error",
     "traceback": [
      "\u001b[1;31m---------------------------------------------------------------------------\u001b[0m",
      "\u001b[1;31mValueError\u001b[0m                                Traceback (most recent call last)",
      "Cell \u001b[1;32mIn[60], line 30\u001b[0m\n\u001b[0;32m     26\u001b[0m     \u001b[38;5;28;01mreturn\u001b[39;00m np\u001b[38;5;241m.\u001b[39mhstack((\u001b[38;5;241m1\u001b[39m\u001b[38;5;241m-\u001b[39mpredictions, predictions))\n\u001b[0;32m     28\u001b[0m new_article \u001b[38;5;241m=\u001b[39m \u001b[38;5;124m\"\u001b[39m\u001b[38;5;124mHong Kong has seen several months of pro-democracy protests - and China appears to be tightening its grip. The protests began in June 2019 over plans - later put on ice, and finally withdrawn in September - that would have allowed extradition from Hong Kong to mainland China. They then spread to reflect wider demands for democratic reform, and an inquiry into alleged police brutality. Now, China is proposing to introduce a new national security law, which critics believe could be used to crack down on rights and political activists. This is not all happening in a vacuum. There\u001b[39m\u001b[38;5;124m'\u001b[39m\u001b[38;5;124ms a lot of important context - some of it stretching back decades - that helps explain what is going on. It\u001b[39m\u001b[38;5;124m'\u001b[39m\u001b[38;5;124ms important to remember that Hong Kong is significantly different from other Chinese cities. To understand this, you need to look at its history. It was a British colony for more than 150 years - part of it, Hong Kong island, was ceded to the UK after a war in 1842. Later, China also leased the rest of Hong Kong - the New Territories - to the British for 99 years. It became a busy trading port, and its economy took off in the 1950s as it became a manufacturing hub. The territory was also popular with migrants and dissidents fleeing instability, poverty or persecution in mainland China. Then, in the early 1980s, as the deadline for the 99-year-lease approached, Britain and China began talks on the future of Hong Kong - with the communist government in China arguing that all of Hong Kong should be returned to Chinese rule. The two sides signed a treaty in 1984 that would see Hong Kong return to China in 1997, under the principle of \u001b[39m\u001b[38;5;124m'\u001b[39m\u001b[38;5;124mone country, two systems\u001b[39m\u001b[38;5;124m'\u001b[39m\u001b[38;5;124m. This meant that while becoming part of one country with China, Hong Kong would enjoy \u001b[39m\u001b[38;5;124m'\u001b[39m\u001b[38;5;124ma high degree of autonomy, except in foreign and defence affairs\u001b[39m\u001b[38;5;124m'\u001b[39m\u001b[38;5;124m for 50 years. As a result, Hong Kong has its own legal system and borders, and rights including freedom of assembly, free speech and freedom of the press are protected.For example, it is one of the few places in Chinese territory where people can commemorate the 1989 Tiananmen Square crackdown, where the military opened fire on unarmed protesters in Beijing. Hong Kong still enjoys freedoms not seen in mainland China - but they are widely thought to be on the decline. Rights groups have accused China of meddling in Hong Kong, citing examples such as legal rulings that have disqualified pro-democracy legislators, and the disappearance of five Hong Kong booksellers, and a tycoon - who all eventually re-emerged in custody in China. There are also accusations that press and academic freedoms have been deteriorating. In March, China effectively expelled several US journalists - but also prohibited them from working in Hong Kong. The public broadcaster RTHK has come under pressure from Hong Kong\u001b[39m\u001b[38;5;124m'\u001b[39m\u001b[38;5;124ms government, first for broadcasting an interview with the World Health Organization about Taiwan, and then for targeting police in its satirical news show \u001b[39m\u001b[38;5;124m'\u001b[39m\u001b[38;5;124mHeadliner\u001b[39m\u001b[38;5;124m'\u001b[39m\u001b[38;5;124m. The local examinations body also came under fire for a world history question about relations between Japan and China, with the government demanding the exam question be invalidated. The government said it was a professional, rather than political, decision, but many academics expressed concern. Another sticking point has been democratic reform. Hong Kong\u001b[39m\u001b[38;5;124m'\u001b[39m\u001b[38;5;124ms leader, the chief executive, is currently elected by a 1,200-member election committee - a mostly pro-Beijing body chosen by just 6\u001b[39m\u001b[38;5;132;01m% o\u001b[39;00m\u001b[38;5;124mf eligible voters. Not all the 70 members of the territory\u001b[39m\u001b[38;5;124m'\u001b[39m\u001b[38;5;124ms lawmaking body, the Legislative Council, are directly chosen by Hong Kong\u001b[39m\u001b[38;5;124m'\u001b[39m\u001b[38;5;124ms voters. Most seats not directly elected are occupied by pro-Beijing lawmakers. In June 2019, protesters took to the streets again, demonstrating against plans to allow extraditions to mainland China. This time, clashes between police and activists became increasingly violent. The bill was halted, and later fully withdrawn, but demonstrations continued for months, with demands for full democracy and an independent inquiry into police actions. In April this year, Hong Kong police arrested 15 of the city\u001b[39m\u001b[38;5;124m'\u001b[39m\u001b[38;5;124ms most high-profile pro-democracy activists for taking part in unauthorised assemblies. In May, Hong Kong\u001b[39m\u001b[38;5;124m'\u001b[39m\u001b[38;5;124ms police watchdog said it found no significant wrongdoing on the police\u001b[39m\u001b[38;5;124m'\u001b[39m\u001b[38;5;124ms part during the 2019 protests - in a report that was criticised by many rights groups and external experts. The street protests have mostly died down during the coronavirus pandemic, although some small demonstrations, including singing protesters in shopping malls, have started again as restrictions are gradually eased. Now, China is proposing to introduce a new national security law in Hong Kong, which could be similar to the one withdrawn in 2003. It says the legislation is \u001b[39m\u001b[38;5;124m'\u001b[39m\u001b[38;5;124mhighly necessary\u001b[39m\u001b[38;5;124m'\u001b[39m\u001b[38;5;124m and would \u001b[39m\u001b[38;5;124m'\u001b[39m\u001b[38;5;124msafeguard national security in Hong Kong\u001b[39m\u001b[38;5;124m'\u001b[39m\u001b[38;5;124m. However, the new proposal is also controversial because it is expected to circumvent Hong Kong\u001b[39m\u001b[38;5;124m'\u001b[39m\u001b[38;5;124ms own law-making processes - leading to accusations that Beijing is undermining Hong Kong\u001b[39m\u001b[38;5;124m'\u001b[39m\u001b[38;5;124ms autonomy.\u001b[39m\u001b[38;5;124m\"\u001b[39m\n\u001b[1;32m---> 30\u001b[0m prediction \u001b[38;5;241m=\u001b[39m \u001b[43mmodel_text\u001b[49m\u001b[38;5;241;43m.\u001b[39;49m\u001b[43mpredict\u001b[49m\u001b[43m(\u001b[49m\u001b[43mx\u001b[49m\u001b[38;5;241;43m=\u001b[39;49m\u001b[43mprocess_single_text\u001b[49m\u001b[43m(\u001b[49m\u001b[43mnew_article\u001b[49m\u001b[43m)\u001b[49m\u001b[43m)\u001b[49m\n\u001b[0;32m     33\u001b[0m \u001b[38;5;28;01mfrom\u001b[39;00m \u001b[38;5;21;01mlime\u001b[39;00m\u001b[38;5;21;01m.\u001b[39;00m\u001b[38;5;21;01mlime_text\u001b[39;00m \u001b[38;5;28;01mimport\u001b[39;00m LimeTextExplainer\n\u001b[0;32m     35\u001b[0m \u001b[38;5;66;03m# Initialize the explainer\u001b[39;00m\n",
      "File \u001b[1;32md:\\nlp\\project-fake\\.venv\\Lib\\site-packages\\keras\\src\\utils\\traceback_utils.py:122\u001b[0m, in \u001b[0;36mfilter_traceback.<locals>.error_handler\u001b[1;34m(*args, **kwargs)\u001b[0m\n\u001b[0;32m    119\u001b[0m     filtered_tb \u001b[38;5;241m=\u001b[39m _process_traceback_frames(e\u001b[38;5;241m.\u001b[39m__traceback__)\n\u001b[0;32m    120\u001b[0m     \u001b[38;5;66;03m# To get the full stack trace, call:\u001b[39;00m\n\u001b[0;32m    121\u001b[0m     \u001b[38;5;66;03m# `keras.config.disable_traceback_filtering()`\u001b[39;00m\n\u001b[1;32m--> 122\u001b[0m     \u001b[38;5;28;01mraise\u001b[39;00m e\u001b[38;5;241m.\u001b[39mwith_traceback(filtered_tb) \u001b[38;5;28;01mfrom\u001b[39;00m \u001b[38;5;28;01mNone\u001b[39;00m\n\u001b[0;32m    123\u001b[0m \u001b[38;5;28;01mfinally\u001b[39;00m:\n\u001b[0;32m    124\u001b[0m     \u001b[38;5;28;01mdel\u001b[39;00m filtered_tb\n",
      "File \u001b[1;32md:\\nlp\\project-fake\\.venv\\Lib\\site-packages\\keras\\src\\trainers\\data_adapters\\__init__.py:113\u001b[0m, in \u001b[0;36mget_data_adapter\u001b[1;34m(x, y, sample_weight, batch_size, steps_per_epoch, shuffle, class_weight)\u001b[0m\n\u001b[0;32m    105\u001b[0m     \u001b[38;5;28;01mreturn\u001b[39;00m GeneratorDataAdapter(x)\n\u001b[0;32m    106\u001b[0m     \u001b[38;5;66;03m# TODO: should we warn or not?\u001b[39;00m\n\u001b[0;32m    107\u001b[0m     \u001b[38;5;66;03m# warnings.warn(\u001b[39;00m\n\u001b[0;32m    108\u001b[0m     \u001b[38;5;66;03m#     \"`shuffle=True` was passed, but will be ignored since the \"\u001b[39;00m\n\u001b[1;32m   (...)\u001b[0m\n\u001b[0;32m    111\u001b[0m     \u001b[38;5;66;03m# )\u001b[39;00m\n\u001b[0;32m    112\u001b[0m \u001b[38;5;28;01melse\u001b[39;00m:\n\u001b[1;32m--> 113\u001b[0m     \u001b[38;5;28;01mraise\u001b[39;00m \u001b[38;5;167;01mValueError\u001b[39;00m(\u001b[38;5;124mf\u001b[39m\u001b[38;5;124m\"\u001b[39m\u001b[38;5;124mUnrecognized data type: x=\u001b[39m\u001b[38;5;132;01m{\u001b[39;00mx\u001b[38;5;132;01m}\u001b[39;00m\u001b[38;5;124m (of type \u001b[39m\u001b[38;5;132;01m{\u001b[39;00m\u001b[38;5;28mtype\u001b[39m(x)\u001b[38;5;132;01m}\u001b[39;00m\u001b[38;5;124m)\u001b[39m\u001b[38;5;124m\"\u001b[39m)\n",
      "\u001b[1;31mValueError\u001b[0m: Unrecognized data type: x=country see month pro democracy protest country appear tighten grip protest begin June 2019 plan later ice finally withdraw September allow extradition country mainland country spread reflect wide demand democratic reform inquiry alleged police brutality country propose introduce new national security law critic believe crack right political activist happen vacuum lot important context stretch decade help explain go important remember country significantly different chinese city understand need look history british colony 150 year country island cede UK war 1842 later country lease rest country New Territories British 99 year busy trading port economy take 1950 manufacturing hub territory popular migrant dissident flee instability poverty persecution mainland country early 1980 deadline 99 year lease approach Britain country begin talk future country communist government country argue country return chinese rule side sign treaty 1984 country return country 1997 principle country system mean country country country enjoy high degree autonomy foreign defence affair 50 year result country legal system border right include freedom assembly free speech freedom press protect example place chinese territory people commemorate 1989 Tiananmen Square crackdown military open fire unarmed protester Beijing country enjoy freedom see mainland country widely think decline right group accuse country meddle country cite example legal ruling disqualify pro democracy legislator disappearance country bookseller tycoon eventually emerge custody country accusation press academic freedom deteriorate March country effectively expel journalist prohibit work country public broadcaster RTHK come pressure country government broadcast interview World Health Organization Taiwan target police satirical news Headliner local examination body come fire world history question relation country country government demand exam question invalidated government say professional political decision academic express concern stick point democratic reform country leader chief executive currently elect 1,200 member election committee pro beijing body choose 6 eligible voter 70 member territory lawmaking body Legislative Council directly choose country voter seat directly elect occupy pro beijing lawmaker June 2019 protester take street demonstrate plan allow extradition mainland country time clash police activist increasingly violent bill halt later fully withdraw demonstration continue month demand democracy independent inquiry police action April year country police arrest 15 city high profile pro democracy activist take unauthorised assembly country police watchdog say find significant wrongdoing police 2019 protest report criticise right group external expert street protest die coronavirus pandemic small demonstration include singe protester shopping mall start restriction gradually ease country propose introduce new national security law country similar withdraw 2003 say legislation highly necessary safeguard national security country new proposal controversial expect circumvent country law make process lead accusation Beijing undermine country autonomy (of type <class 'str'>)"
     ]
    }
   ],
   "source": [
    "from IPython.display import display, HTML\n",
    "\n",
    "def process_single_text(doc):\n",
    "\ttext = doc.replace('\\xa0', ' ')    \t\n",
    "\tnew_text = replace_countries(text)\n",
    "\tnlp = spacy.load(\"en_core_web_sm\", disable=[\"parser\", \"ner\"])\n",
    "       \n",
    "\tprocessed_doc = nlp(new_text)\n",
    "\t\n",
    "\tlemmatized_tokens = [token.lemma_ for token in processed_doc if not token.is_stop and not token.is_punct]\n",
    "\t\n",
    "\tclean_text = ' '.join(lemmatized_tokens)\n",
    "\n",
    "\treturn clean_text\n",
    "\n",
    "from tensorflow.keras.preprocessing.sequence import pad_sequences\n",
    "\n",
    "def predict_proba(texts):\n",
    "    # Preprocess texts (cleaning, lemmatizing)\n",
    "    processed_texts = texts\n",
    "    # Tokenize and pad sequences\n",
    "    sequences = tokenizer.texts_to_sequences(processed_texts)\n",
    "    padded_sequences = pad_sequences(sequences, maxlen=150)\n",
    "    # Predict and format for LIME\n",
    "    predictions = model_text.predict(padded_sequences)\n",
    "    return np.hstack((1-predictions, predictions))\n",
    "\n",
    "new_article = \"Hong Kong has seen several months of pro-democracy protests - and China appears to be tightening its grip. The protests began in June 2019 over plans - later put on ice, and finally withdrawn in September - that would have allowed extradition from Hong Kong to mainland China. They then spread to reflect wider demands for democratic reform, and an inquiry into alleged police brutality. Now, China is proposing to introduce a new national security law, which critics believe could be used to crack down on rights and political activists. This is not all happening in a vacuum. There's a lot of important context - some of it stretching back decades - that helps explain what is going on. It's important to remember that Hong Kong is significantly different from other Chinese cities. To understand this, you need to look at its history. It was a British colony for more than 150 years - part of it, Hong Kong island, was ceded to the UK after a war in 1842. Later, China also leased the rest of Hong Kong - the New Territories - to the British for 99 years. It became a busy trading port, and its economy took off in the 1950s as it became a manufacturing hub. The territory was also popular with migrants and dissidents fleeing instability, poverty or persecution in mainland China. Then, in the early 1980s, as the deadline for the 99-year-lease approached, Britain and China began talks on the future of Hong Kong - with the communist government in China arguing that all of Hong Kong should be returned to Chinese rule. The two sides signed a treaty in 1984 that would see Hong Kong return to China in 1997, under the principle of 'one country, two systems'. This meant that while becoming part of one country with China, Hong Kong would enjoy 'a high degree of autonomy, except in foreign and defence affairs' for 50 years. As a result, Hong Kong has its own legal system and borders, and rights including freedom of assembly, free speech and freedom of the press are protected.For example, it is one of the few places in Chinese territory where people can commemorate the 1989 Tiananmen Square crackdown, where the military opened fire on unarmed protesters in Beijing. Hong Kong still enjoys freedoms not seen in mainland China - but they are widely thought to be on the decline. Rights groups have accused China of meddling in Hong Kong, citing examples such as legal rulings that have disqualified pro-democracy legislators, and the disappearance of five Hong Kong booksellers, and a tycoon - who all eventually re-emerged in custody in China. There are also accusations that press and academic freedoms have been deteriorating. In March, China effectively expelled several US journalists - but also prohibited them from working in Hong Kong. The public broadcaster RTHK has come under pressure from Hong Kong's government, first for broadcasting an interview with the World Health Organization about Taiwan, and then for targeting police in its satirical news show 'Headliner'. The local examinations body also came under fire for a world history question about relations between Japan and China, with the government demanding the exam question be invalidated. The government said it was a professional, rather than political, decision, but many academics expressed concern. Another sticking point has been democratic reform. Hong Kong's leader, the chief executive, is currently elected by a 1,200-member election committee - a mostly pro-Beijing body chosen by just 6% of eligible voters. Not all the 70 members of the territory's lawmaking body, the Legislative Council, are directly chosen by Hong Kong's voters. Most seats not directly elected are occupied by pro-Beijing lawmakers. In June 2019, protesters took to the streets again, demonstrating against plans to allow extraditions to mainland China. This time, clashes between police and activists became increasingly violent. The bill was halted, and later fully withdrawn, but demonstrations continued for months, with demands for full democracy and an independent inquiry into police actions. In April this year, Hong Kong police arrested 15 of the city's most high-profile pro-democracy activists for taking part in unauthorised assemblies. In May, Hong Kong's police watchdog said it found no significant wrongdoing on the police's part during the 2019 protests - in a report that was criticised by many rights groups and external experts. The street protests have mostly died down during the coronavirus pandemic, although some small demonstrations, including singing protesters in shopping malls, have started again as restrictions are gradually eased. Now, China is proposing to introduce a new national security law in Hong Kong, which could be similar to the one withdrawn in 2003. It says the legislation is 'highly necessary' and would 'safeguard national security in Hong Kong'. However, the new proposal is also controversial because it is expected to circumvent Hong Kong's own law-making processes - leading to accusations that Beijing is undermining Hong Kong's autonomy.\"\n",
    "\n",
    "prediction = model_text.predict(x=process_single_text(new_article))\n",
    "\n",
    "from lime.lime_text import LimeTextExplainer\n",
    "\n",
    "# Initialize the explainer\n",
    "explainer = LimeTextExplainer(class_names=[\"False\", \"True\"])\n",
    "\n",
    "# Generate explanation\n",
    "exp = explainer.explain_instance(process_single_text(new_article), predict_proba, num_features=10)\n",
    "\n",
    "# Display the explanation\n",
    "# print(exp.as_list())\n",
    "# exp.show_in_notebook(text=True)\n",
    "\n",
    "# exp_html = exp.as_html()\n",
    "\n",
    "# # Define CSS styles to enhance visibility on dark themes\n",
    "# style = '''\n",
    "# <style>\n",
    "#     body, p, li { color: #fff; background-color: white; } /* Adjust text and background colors */\n",
    "#     .highlight { color: red; } /* Example of custom class adjustments */\n",
    "# </style>\n",
    "# '''\n",
    "# # Concatenate the style with the explanation HTML\n",
    "# html_output = style + exp_html\n",
    "\n",
    "# # Display modified HTML in a Jupyter notebook cell or an IPython environment\n",
    "# display(HTML(html_output))"
   ]
  },
  {
   "cell_type": "code",
   "execution_count": 66,
   "metadata": {},
   "outputs": [
    {
     "data": {
      "text/html": [
       "<div>\n",
       "<style scoped>\n",
       "    .dataframe tbody tr th:only-of-type {\n",
       "        vertical-align: middle;\n",
       "    }\n",
       "\n",
       "    .dataframe tbody tr th {\n",
       "        vertical-align: top;\n",
       "    }\n",
       "\n",
       "    .dataframe thead th {\n",
       "        text-align: right;\n",
       "    }\n",
       "</style>\n",
       "<table border=\"1\" class=\"dataframe\">\n",
       "  <thead>\n",
       "    <tr style=\"text-align: right;\">\n",
       "      <th></th>\n",
       "      <th>title</th>\n",
       "      <th>text</th>\n",
       "      <th>subject</th>\n",
       "      <th>date</th>\n",
       "      <th>label</th>\n",
       "    </tr>\n",
       "  </thead>\n",
       "  <tbody>\n",
       "    <tr>\n",
       "      <th>585</th>\n",
       "      <td>Trump’s Rhetoric Just Resulted In A Trillion ...</td>\n",
       "      <td>If Donald Trump wants to take credit for somet...</td>\n",
       "      <td>News</td>\n",
       "      <td>August 11, 2017</td>\n",
       "      <td>0</td>\n",
       "    </tr>\n",
       "    <tr>\n",
       "      <th>3879</th>\n",
       "      <td>Stock Market Literally SHUTS DOWN And Dollar ...</td>\n",
       "      <td>The prospect of Donald Trump winning the presi...</td>\n",
       "      <td>News</td>\n",
       "      <td>November 8, 2016</td>\n",
       "      <td>0</td>\n",
       "    </tr>\n",
       "    <tr>\n",
       "      <th>4380</th>\n",
       "      <td>BUSTED: Donald Trump Screwed Over American St...</td>\n",
       "      <td>Donald Trump claims he will  make America grea...</td>\n",
       "      <td>News</td>\n",
       "      <td>October 3, 2016</td>\n",
       "      <td>0</td>\n",
       "    </tr>\n",
       "    <tr>\n",
       "      <th>6758</th>\n",
       "      <td>New Study Offers Hope In Search For Alzheimer...</td>\n",
       "      <td>Alzheimer s Disease is a devastating type of d...</td>\n",
       "      <td>News</td>\n",
       "      <td>April 22, 2016</td>\n",
       "      <td>0</td>\n",
       "    </tr>\n",
       "    <tr>\n",
       "      <th>9083</th>\n",
       "      <td>The DIRTY TRUTH About DACA Recipients…Where Th...</td>\n",
       "      <td>Yesterday, a second U.S. judge on Tuesday bloc...</td>\n",
       "      <td>politics</td>\n",
       "      <td>15-Feb-18</td>\n",
       "      <td>0</td>\n",
       "    </tr>\n",
       "    <tr>\n",
       "      <th>11097</th>\n",
       "      <td>COLLEGE PROFESSOR’S SEVERED TRUMP HEAD Paintin...</td>\n",
       "      <td>A painting on display at a University of Alask...</td>\n",
       "      <td>politics</td>\n",
       "      <td>Apr 20, 2017</td>\n",
       "      <td>0</td>\n",
       "    </tr>\n",
       "    <tr>\n",
       "      <th>13905</th>\n",
       "      <td>HILLARY APPROVED? BILL CLINTON Ditched Secret ...</td>\n",
       "      <td>We all know Bill Clinton is a sexual predator....</td>\n",
       "      <td>politics</td>\n",
       "      <td>May 13, 2016</td>\n",
       "      <td>0</td>\n",
       "    </tr>\n",
       "    <tr>\n",
       "      <th>15477</th>\n",
       "      <td>CHINESE IMMIGRANT OWES MILLIONS FOR SELLING CO...</td>\n",
       "      <td>Counterfeiting is illegal by the way and shoul...</td>\n",
       "      <td>politics</td>\n",
       "      <td>Jul 11, 2015</td>\n",
       "      <td>0</td>\n",
       "    </tr>\n",
       "    <tr>\n",
       "      <th>16866</th>\n",
       "      <td>Want To Know Where Your Meat Comes From? Those...</td>\n",
       "      <td>One word China That s the only reason you shou...</td>\n",
       "      <td>Government News</td>\n",
       "      <td>Jan 5, 2016</td>\n",
       "      <td>0</td>\n",
       "    </tr>\n",
       "    <tr>\n",
       "      <th>17201</th>\n",
       "      <td>CHINESE IMMIGRANT OWES MILLIONS FOR SELLING CO...</td>\n",
       "      <td>Counterfeiting is illegal by the way and shoul...</td>\n",
       "      <td>Government News</td>\n",
       "      <td>Jul 11, 2015</td>\n",
       "      <td>0</td>\n",
       "    </tr>\n",
       "    <tr>\n",
       "      <th>17239</th>\n",
       "      <td>USDA MIGHT WANT TO RETHINK REMOVING COUNTRY OF...</td>\n",
       "      <td>Yuck! It s bad enough that China had a dog mea...</td>\n",
       "      <td>Government News</td>\n",
       "      <td>Jun 27, 2015</td>\n",
       "      <td>0</td>\n",
       "    </tr>\n",
       "    <tr>\n",
       "      <th>18788</th>\n",
       "      <td>COLLEGE PROFESSOR’S SEVERED TRUMP HEAD Paintin...</td>\n",
       "      <td>A painting on display at a University of Alask...</td>\n",
       "      <td>left-news</td>\n",
       "      <td>Apr 20, 2017</td>\n",
       "      <td>0</td>\n",
       "    </tr>\n",
       "    <tr>\n",
       "      <th>20578</th>\n",
       "      <td>HILLARY APPROVED? BILL CLINTON Ditched Secret ...</td>\n",
       "      <td>We all know Bill Clinton is a sexual predator....</td>\n",
       "      <td>left-news</td>\n",
       "      <td>May 13, 2016</td>\n",
       "      <td>0</td>\n",
       "    </tr>\n",
       "    <tr>\n",
       "      <th>21978</th>\n",
       "      <td>The Las Vegas Mass Shooting – More to the Stor...</td>\n",
       "      <td>Shawn Helton 21st Century WireAlthough many ar...</td>\n",
       "      <td>US_News</td>\n",
       "      <td>October 12, 2017</td>\n",
       "      <td>0</td>\n",
       "    </tr>\n",
       "    <tr>\n",
       "      <th>22761</th>\n",
       "      <td>The Las Vegas Mass Shooting – More to the Stor...</td>\n",
       "      <td>Shawn Helton 21st Century WireAlthough many ar...</td>\n",
       "      <td>Middle-east</td>\n",
       "      <td>October 12, 2017</td>\n",
       "      <td>0</td>\n",
       "    </tr>\n",
       "  </tbody>\n",
       "</table>\n",
       "</div>"
      ],
      "text/plain": [
       "                                                   title  \\\n",
       "585     Trump’s Rhetoric Just Resulted In A Trillion ...   \n",
       "3879    Stock Market Literally SHUTS DOWN And Dollar ...   \n",
       "4380    BUSTED: Donald Trump Screwed Over American St...   \n",
       "6758    New Study Offers Hope In Search For Alzheimer...   \n",
       "9083   The DIRTY TRUTH About DACA Recipients…Where Th...   \n",
       "11097  COLLEGE PROFESSOR’S SEVERED TRUMP HEAD Paintin...   \n",
       "13905  HILLARY APPROVED? BILL CLINTON Ditched Secret ...   \n",
       "15477  CHINESE IMMIGRANT OWES MILLIONS FOR SELLING CO...   \n",
       "16866  Want To Know Where Your Meat Comes From? Those...   \n",
       "17201  CHINESE IMMIGRANT OWES MILLIONS FOR SELLING CO...   \n",
       "17239  USDA MIGHT WANT TO RETHINK REMOVING COUNTRY OF...   \n",
       "18788  COLLEGE PROFESSOR’S SEVERED TRUMP HEAD Paintin...   \n",
       "20578  HILLARY APPROVED? BILL CLINTON Ditched Secret ...   \n",
       "21978  The Las Vegas Mass Shooting – More to the Stor...   \n",
       "22761  The Las Vegas Mass Shooting – More to the Stor...   \n",
       "\n",
       "                                                    text          subject  \\\n",
       "585    If Donald Trump wants to take credit for somet...             News   \n",
       "3879   The prospect of Donald Trump winning the presi...             News   \n",
       "4380   Donald Trump claims he will  make America grea...             News   \n",
       "6758   Alzheimer s Disease is a devastating type of d...             News   \n",
       "9083   Yesterday, a second U.S. judge on Tuesday bloc...         politics   \n",
       "11097  A painting on display at a University of Alask...         politics   \n",
       "13905  We all know Bill Clinton is a sexual predator....         politics   \n",
       "15477  Counterfeiting is illegal by the way and shoul...         politics   \n",
       "16866  One word China That s the only reason you shou...  Government News   \n",
       "17201  Counterfeiting is illegal by the way and shoul...  Government News   \n",
       "17239  Yuck! It s bad enough that China had a dog mea...  Government News   \n",
       "18788  A painting on display at a University of Alask...        left-news   \n",
       "20578  We all know Bill Clinton is a sexual predator....        left-news   \n",
       "21978  Shawn Helton 21st Century WireAlthough many ar...          US_News   \n",
       "22761  Shawn Helton 21st Century WireAlthough many ar...      Middle-east   \n",
       "\n",
       "                   date  label  \n",
       "585     August 11, 2017      0  \n",
       "3879   November 8, 2016      0  \n",
       "4380    October 3, 2016      0  \n",
       "6758     April 22, 2016      0  \n",
       "9083          15-Feb-18      0  \n",
       "11097      Apr 20, 2017      0  \n",
       "13905      May 13, 2016      0  \n",
       "15477      Jul 11, 2015      0  \n",
       "16866       Jan 5, 2016      0  \n",
       "17201      Jul 11, 2015      0  \n",
       "17239      Jun 27, 2015      0  \n",
       "18788      Apr 20, 2017      0  \n",
       "20578      May 13, 2016      0  \n",
       "21978  October 12, 2017      0  \n",
       "22761  October 12, 2017      0  "
      ]
     },
     "execution_count": 66,
     "metadata": {},
     "output_type": "execute_result"
    }
   ],
   "source": [
    "fake[fake[\"text\"].str.contains(\"Hong Kong\")]"
   ]
  },
  {
   "cell_type": "code",
   "execution_count": 7,
   "metadata": {},
   "outputs": [
    {
     "data": {
      "text/plain": [
       "569      WASHINGTON (Reuters) - The United States has c...\n",
       "769      WASHINGTON (Reuters) - U.S. Commerce Secretary...\n",
       "795      WASHINGTON (Reuters) - U.S. Commerce Secretary...\n",
       "821      WASHINGTON/KHOBAR, Saudi Arabia (Reuters) - U....\n",
       "1533     HONG KONG (Reuters) - U.S. Commerce Secretary ...\n",
       "                               ...                        \n",
       "21176    BANGKOK (Reuters) - Thailand s prestigious Chu...\n",
       "21184    HANOI (Reuters) - Tensions are high on the Sou...\n",
       "21257    HONG KONG (Reuters) - Hong Kong businessman an...\n",
       "21394    HONG KONG (Reuters) - Typhoon Hato, a maximum ...\n",
       "21398    SHANGHAI (Reuters) - An old review of an acade...\n",
       "Name: text, Length: 110, dtype: object"
      ]
     },
     "execution_count": 7,
     "metadata": {},
     "output_type": "execute_result"
    }
   ],
   "source": [
    "true[true['text'].str.contains(\"Hong Kong\")][\"text\"]"
   ]
  }
 ],
 "metadata": {
  "kernelspec": {
   "display_name": "Python 3",
   "language": "python",
   "name": "python3"
  },
  "language_info": {
   "codemirror_mode": {
    "name": "ipython",
    "version": 3
   },
   "file_extension": ".py",
   "mimetype": "text/x-python",
   "name": "python",
   "nbconvert_exporter": "python",
   "pygments_lexer": "ipython3",
   "version": "3.12.3"
  }
 },
 "nbformat": 4,
 "nbformat_minor": 4
}
